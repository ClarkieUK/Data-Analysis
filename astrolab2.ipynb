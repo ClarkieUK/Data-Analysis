{
 "cells": [
  {
   "cell_type": "markdown",
   "metadata": {},
   "source": [
    "We have an ecliptical longitude of -111.11(deg) we must account for by adding a full 360 degrees, because the vernal equinox is passed during the motion, explaining the negative."
   ]
  },
  {
   "cell_type": "code",
   "execution_count": null,
   "metadata": {},
   "outputs": [],
   "source": []
  }
 ],
 "metadata": {
  "kernelspec": {
   "display_name": "Python 3.10.7 64-bit",
   "language": "python",
   "name": "python3"
  },
  "language_info": {
   "name": "python",
   "version": "3.10.7"
  },
  "orig_nbformat": 4,
  "vscode": {
   "interpreter": {
    "hash": "4575b3479d19997db204fee7d8ad6f418c2ab906615a63e86fab7a0d02658f9d"
   }
  }
 },
 "nbformat": 4,
 "nbformat_minor": 2
}
