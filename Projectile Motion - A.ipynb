{
 "cells": [
  {
   "cell_type": "code",
   "execution_count": 2,
   "metadata": {},
   "outputs": [],
   "source": [
    "import pandas as pd\n",
    "import numpy as np\n",
    "import matplotlib.pyplot as plt\n",
    "import math\n",
    "import operator\n",
    "import sys\n",
    "from scipy.interpolate import interp1d\n",
    "pd.options.mode.chained_assignment = None  # default='warn'"
   ]
  },
  {
   "cell_type": "code",
   "execution_count": 3,
   "metadata": {},
   "outputs": [],
   "source": [
    "data_path1 = \"C:\\\\Users\\\\Liam\\\\sourceVSC\\\\repos\\\\Data-Analysis\\\\data\\\\Projectile-Motion-A.csv\"\n",
    "\n",
    "data = pd.read_csv(data_path1)"
   ]
  },
  {
   "cell_type": "code",
   "execution_count": 56,
   "metadata": {},
   "outputs": [
    {
     "data": {
      "text/html": [
       "<div>\n",
       "<style scoped>\n",
       "    .dataframe tbody tr th:only-of-type {\n",
       "        vertical-align: middle;\n",
       "    }\n",
       "\n",
       "    .dataframe tbody tr th {\n",
       "        vertical-align: top;\n",
       "    }\n",
       "\n",
       "    .dataframe thead th {\n",
       "        text-align: right;\n",
       "    }\n",
       "</style>\n",
       "<table border=\"1\" class=\"dataframe\">\n",
       "  <thead>\n",
       "    <tr style=\"text-align: right;\">\n",
       "      <th></th>\n",
       "      <th>time</th>\n",
       "      <th>timea</th>\n",
       "      <th>timeb</th>\n",
       "      <th>timea-b</th>\n",
       "    </tr>\n",
       "  </thead>\n",
       "  <tbody>\n",
       "    <tr>\n",
       "      <th>count</th>\n",
       "      <td>5.000000</td>\n",
       "      <td>5.000000</td>\n",
       "      <td>5.000000</td>\n",
       "      <td>5.000000</td>\n",
       "    </tr>\n",
       "    <tr>\n",
       "      <th>mean</th>\n",
       "      <td>10.225591</td>\n",
       "      <td>0.031644</td>\n",
       "      <td>0.477602</td>\n",
       "      <td>0.222980</td>\n",
       "    </tr>\n",
       "    <tr>\n",
       "      <th>std</th>\n",
       "      <td>9.244365</td>\n",
       "      <td>0.000320</td>\n",
       "      <td>0.003209</td>\n",
       "      <td>0.001469</td>\n",
       "    </tr>\n",
       "    <tr>\n",
       "      <th>min</th>\n",
       "      <td>0.015810</td>\n",
       "      <td>0.031160</td>\n",
       "      <td>0.472680</td>\n",
       "      <td>0.220760</td>\n",
       "    </tr>\n",
       "    <tr>\n",
       "      <th>25%</th>\n",
       "      <td>5.505939</td>\n",
       "      <td>0.031570</td>\n",
       "      <td>0.476770</td>\n",
       "      <td>0.222600</td>\n",
       "    </tr>\n",
       "    <tr>\n",
       "      <th>50%</th>\n",
       "      <td>5.505939</td>\n",
       "      <td>0.031680</td>\n",
       "      <td>0.477680</td>\n",
       "      <td>0.222950</td>\n",
       "    </tr>\n",
       "    <tr>\n",
       "      <th>75%</th>\n",
       "      <td>20.050133</td>\n",
       "      <td>0.031780</td>\n",
       "      <td>0.480160</td>\n",
       "      <td>0.224070</td>\n",
       "    </tr>\n",
       "    <tr>\n",
       "      <th>max</th>\n",
       "      <td>20.050133</td>\n",
       "      <td>0.032030</td>\n",
       "      <td>0.480720</td>\n",
       "      <td>0.224520</td>\n",
       "    </tr>\n",
       "  </tbody>\n",
       "</table>\n",
       "</div>"
      ],
      "text/plain": [
       "            time     timea     timeb   timea-b\n",
       "count   5.000000  5.000000  5.000000  5.000000\n",
       "mean   10.225591  0.031644  0.477602  0.222980\n",
       "std     9.244365  0.000320  0.003209  0.001469\n",
       "min     0.015810  0.031160  0.472680  0.220760\n",
       "25%     5.505939  0.031570  0.476770  0.222600\n",
       "50%     5.505939  0.031680  0.477680  0.222950\n",
       "75%    20.050133  0.031780  0.480160  0.224070\n",
       "max    20.050133  0.032030  0.480720  0.224520"
      ]
     },
     "execution_count": 56,
     "metadata": {},
     "output_type": "execute_result"
    }
   ],
   "source": [
    "data.describe()"
   ]
  },
  {
   "cell_type": "markdown",
   "metadata": {},
   "source": [
    "Table height = 91e-2\n",
    "\n",
    "Table to pad = 36.5e-2\n",
    "\n",
    "time from no horizontal = 0.3944"
   ]
  },
  {
   "cell_type": "code",
   "execution_count": 4,
   "metadata": {},
   "outputs": [],
   "source": [
    "time = data['timea-b']\n",
    "timea = data['timea']\n",
    "timeb = data['timeb']"
   ]
  },
  {
   "cell_type": "code",
   "execution_count": 5,
   "metadata": {},
   "outputs": [
    {
     "name": "stdout",
     "output_type": "stream",
     "text": [
      "9.151314266799922 0.44595799999999997\n"
     ]
    }
   ],
   "source": [
    "timea_mean = np.sum(timea)/5\n",
    "timeb_mean = np.sum(timeb)/5\n",
    "time_difference = float(timeb_mean) - float(timea_mean) \n",
    "g = (2*91*10**(-2))/((float(timeb_mean) - float(timea_mean))**2)\n",
    "print(g,time_difference)\n"
   ]
  },
  {
   "cell_type": "code",
   "execution_count": 103,
   "metadata": {},
   "outputs": [
    {
     "data": {
      "image/png": "[encoded data removed]",
      "text/plain": [
       "<Figure size 640x480 with 1 Axes>"
      ]
     },
     "metadata": {},
     "output_type": "display_data"
    }
   ],
   "source": [
    "labels =  np.arange(1,6)\n",
    "\n",
    "scores = [np.array(['10.3', '10', '9.6', '9.5', '9.2'], dtype='<U10'), \n",
    "          np.array(['4.8', '4.5', '4.4', '4.3', '4.3'], dtype='<U10')]\n",
    "\n",
    "bp_dict = plt.bar(labels, list(map(float, data['timea'])), align='edge', width=-0.4,label='Time A')\n",
    "bp_dict = plt.bar(labels, list(map(float, data['timeb'])), align='edge', width=0.4,label = 'Time B')\n",
    "plt.legend(loc='center right')\n",
    "\n",
    "plt.title(\"Time at A and Time at B\")\n",
    "plt.xlabel(\"Measured Times\")\n",
    "plt.ylabel(\"time(s)\")\n",
    "plt.savefig('Time at A and Time at B.png')"
   ]
  }
 ],
 "metadata": {
  "kernelspec": {
   "display_name": "Python 3.10.7 64-bit",
   "language": "python",
   "name": "python3"
  },
  "language_info": {
   "codemirror_mode": {
    "name": "ipython",
    "version": 3
   },
   "file_extension": ".py",
   "mimetype": "text/x-python",
   "name": "python",
   "nbconvert_exporter": "python",
   "pygments_lexer": "ipython3",
   "version": "3.10.7"
  },
  "orig_nbformat": 4,
  "vscode": {
   "interpreter": {
    "hash": "4575b3479d19997db204fee7d8ad6f418c2ab906615a63e86fab7a0d02658f9d"
   }
  }
 },
 "nbformat": 4,
 "nbformat_minor": 2
}
