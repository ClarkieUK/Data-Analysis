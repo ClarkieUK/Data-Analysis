{
 "cells": [
  {
   "cell_type": "code",
   "execution_count": null,
   "metadata": {},
   "outputs": [],
   "source": [
    "import pandas as pd\n",
    "import numpy as np\n",
    "import matplotlib.pyplot as plt\n",
    "import math\n",
    "import operator\n",
    "import sys\n",
    "from scipy.interpolate import interp1d\n",
    "pd.options.mode.chained_assignment = None  # default='warn'"
   ]
  },
  {
   "cell_type": "code",
   "execution_count": null,
   "metadata": {},
   "outputs": [],
   "source": [
    "data_path1 = \"C:\\\\Users\\\\Liam\\\\sourceVSC\\\\repos\\\\Data-Analysis\\\\data\\\\Projectile-Motion-A.csv\"\n",
    "\n",
    "data_pm1 = pd.read_csv(data_path1)"
   ]
  },
  {
   "cell_type": "code",
   "execution_count": null,
   "metadata": {},
   "outputs": [],
   "source": [
    "data_pm1.describe()"
   ]
  },
  {
   "cell_type": "code",
   "execution_count": null,
   "metadata": {},
   "outputs": [],
   "source": [
    "time = data_pm1['Time (s)']\n",
    "xpos = data_pm1['X position (m)']\n",
    "ypos = data_pm1['Y position (m)']"
   ]
  },
  {
   "cell_type": "code",
   "execution_count": null,
   "metadata": {},
   "outputs": [],
   "source": [
    "x = xpos\n",
    "x_2 = ypos\n",
    "y = time\n",
    "\n",
    "\n",
    "#find line of best fit\n",
    "a, b, c = np.polyfit(x, y, 2)\n",
    "a2,b2,c2 = np.polyfit(x_2,y,2)\n",
    "\n",
    "#add points to plot\n",
    "plt.scatter(x, y, color='white')\n",
    "plt.scatter(x_2,y,color='white')\n",
    "\n",
    "plt.xlabel(\"x,y positions (m)\")\n",
    "plt.ylabel(\"time (s)\")\n",
    "\n",
    "plt.title(\"The displacement from the origin in the x,y direction(s) relative to time\")\n",
    "\n",
    "#polynomial fit with degree = 2\n",
    "\n",
    "plt.scatter(x, y,label=\"x positions\")\n",
    "plt.scatter(x_2,y,label=\"y positions\")\n",
    "plt.legend()\n",
    "\n",
    "d, e, f  = np.polyfit(x_2,y,2)\n",
    "a, b = np.polyfit(x, y, 1)\n",
    "#add line of best fit to plot\n",
    "plt.plot(x_2,d*x_2**2+e*x_2+f,color='orange')\n",
    "plt.plot(x, a*x+b,color='steelblue') \n",
    "plt.text(0.25, 0.125, 'y = ' + '{:.2f}'.format(b) + ' + {:.2f}'.format(a) + 'x', size=8,color='steelblue')\n",
    "plt.text(0.02, 0.205, 'y = '+'{:.2f}'.format(d)+'x^2 + '+'{:.2f}'.format(e)+' x + '+'{:.2f}'.format(f),size=8,color='orange')\n",
    "plt.errorbar(x, y, xerr=0.005,fmt='.',capsize=3,color='steelblue')\n",
    "plt.errorbar(x, y, yerr=0.0167, fmt=\".\",capsize=3,color='steelblue')\n",
    "\n",
    "plt.errorbar(x_2, y, xerr=0.005,fmt='.',capsize=3,color='orange')\n",
    "plt.errorbar(x_2, y, yerr=0.0167, fmt=\".\",capsize=3,color='orange')\n",
    "#plt.legend([\"First data with x\",\"Second data with y\"])\n",
    "\n",
    "plt.savefig(\"positionsagainsttime.png\")\n",
    "plt.show()"
   ]
  },
  {
   "cell_type": "code",
   "execution_count": null,
   "metadata": {},
   "outputs": [],
   "source": [
    "plt.plot(x_2,d*x_2**2+e*x_2+f,color='orange')\n",
    "plt.plot(x_2,2*d*x_2+e,color='orange')\n",
    "plt.axhline(y=2*d,color='orange')\n",
    "plt.show()"
   ]
  },
  {
   "cell_type": "code",
   "execution_count": null,
   "metadata": {},
   "outputs": [],
   "source": [
    "x = xpos\n",
    "y = time\n",
    "\n",
    "#find line of best fit\n",
    "a, b, c = np.polyfit(x, y, 2)\n",
    "\n",
    "#add points to plot\n",
    "plt.scatter(x, y, color='white')\n",
    "\n",
    "plt.xlabel(\"X Position (m)\")\n",
    "plt.ylabel(\"Time (s)\")\n",
    "\n",
    "plt.title(\"The displacement from the origin in the x direction relative to time\")\n",
    "\n",
    "#polynomial fit with degree = 2\n",
    "\n",
    "plt.scatter(x, y)\n",
    "\n",
    "a, b = np.polyfit(x, y, 1)\n",
    "\n",
    "#add line of best fit to plot\n",
    "plt.plot(x, a*x+b,color='steelblue') \n",
    "plt.text(0.2, 0.09, 'y = ' + '{:.2f}'.format(b) + ' + {:.2f}'.format(a) + 'x', size=10)\n",
    "plt.errorbar(x, y, xerr=0.01,fmt='.',capsize=3,color='steelblue')\n",
    "plt.errorbar(x, y, yerr=0.01, fmt=\".\",capsize=3,color='steelblue')\n",
    "plt.savefig(\"xagainstt.png\")\n",
    "plt.show()"
   ]
  }
 ],
 "metadata": {
  "kernelspec": {
   "display_name": "Python 3.10.7 64-bit",
   "language": "python",
   "name": "python3"
  },
  "language_info": {
   "codemirror_mode": {
    "name": "ipython",
    "version": 3
   },
   "file_extension": ".py",
   "mimetype": "text/x-python",
   "name": "python",
   "nbconvert_exporter": "python",
   "pygments_lexer": "ipython3",
   "version": "3.10.7"
  },
  "orig_nbformat": 4,
  "vscode": {
   "interpreter": {
    "hash": "4575b3479d19997db204fee7d8ad6f418c2ab906615a63e86fab7a0d02658f9d"
   }
  }
 },
 "nbformat": 4,
 "nbformat_minor": 2
}
