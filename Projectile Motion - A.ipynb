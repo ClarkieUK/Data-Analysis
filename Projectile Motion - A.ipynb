{
 "cells": [
  {
   "cell_type": "code",
   "execution_count": 1,
   "metadata": {},
   "outputs": [],
   "source": [
    "import pandas as pd\n",
    "import numpy as np\n",
    "import matplotlib.pyplot as plt\n",
    "import math\n",
    "import operator\n",
    "import sys\n",
    "from scipy.interpolate import interp1d\n",
    "pd.options.mode.chained_assignment = None  # default='warn'"
   ]
  },
  {
   "cell_type": "code",
   "execution_count": 2,
   "metadata": {},
   "outputs": [],
   "source": [
    "data_path1 = \"C:\\\\Users\\\\Liam\\\\sourceVSC\\\\repos\\\\Data-Analysis\\\\data\\\\Projectile-Motion-A.csv\"\n",
    "\n",
    "data = pd.read_csv(data_path1)"
   ]
  },
  {
   "cell_type": "markdown",
   "metadata": {},
   "source": [
    "Table height = 91e-2\n",
    "\n",
    "Table to pad = 36.5e-2\n",
    "\n",
    "time from no horizontal = 0.3944"
   ]
  },
  {
   "cell_type": "code",
   "execution_count": 3,
   "metadata": {},
   "outputs": [],
   "source": [
    "time = data['timea-b']\n",
    "timea = data['timea']\n",
    "timeb = data['timeb']"
   ]
  },
  {
   "cell_type": "code",
   "execution_count": 4,
   "metadata": {},
   "outputs": [
    {
     "name": "stdout",
     "output_type": "stream",
     "text": [
      "9.151314266799922 0.44595799999999997\n"
     ]
    }
   ],
   "source": [
    "timea_mean = np.sum(timea)/5\n",
    "timeb_mean = np.sum(timeb)/5\n",
    "x = float(timeb_mean) - float(timea_mean) \n",
    "g = (2*91*10**(-2))/((float(timeb_mean) - float(timea_mean))**2)\n",
    "print(g,x)\n"
   ]
  }
 ],
 "metadata": {
  "kernelspec": {
   "display_name": "Python 3.10.7 64-bit",
   "language": "python",
   "name": "python3"
  },
  "language_info": {
   "codemirror_mode": {
    "name": "ipython",
    "version": 3
   },
   "file_extension": ".py",
   "mimetype": "text/x-python",
   "name": "python",
   "nbconvert_exporter": "python",
   "pygments_lexer": "ipython3",
   "version": "3.10.7"
  },
  "orig_nbformat": 4,
  "vscode": {
   "interpreter": {
    "hash": "4575b3479d19997db204fee7d8ad6f418c2ab906615a63e86fab7a0d02658f9d"
   }
  }
 },
 "nbformat": 4,
 "nbformat_minor": 2
}
