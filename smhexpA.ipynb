{
 "cells": [
  {
   "cell_type": "markdown",
   "metadata": {},
   "source": [
    "- When the magnitude of y,naut = y,final , one oscillation is complete. \n",
    "\n",
    "- We know this is the period of the wave and can then work out the frequency with 1/T\n",
    "\n",
    "- force = 1/s"
   ]
  },
  {
   "cell_type": "code",
   "execution_count": null,
   "metadata": {},
   "outputs": [],
   "source": []
  }
 ],
 "metadata": {
  "kernelspec": {
   "display_name": "Python 3.10.7 64-bit",
   "language": "python",
   "name": "python3"
  },
  "language_info": {
   "name": "python",
   "version": "3.10.7"
  },
  "orig_nbformat": 4,
  "vscode": {
   "interpreter": {
    "hash": "4575b3479d19997db204fee7d8ad6f418c2ab906615a63e86fab7a0d02658f9d"
   }
  }
 },
 "nbformat": 4,
 "nbformat_minor": 2
}
